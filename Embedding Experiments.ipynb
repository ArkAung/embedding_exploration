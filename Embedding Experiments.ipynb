{
 "cells": [
  {
   "cell_type": "markdown",
   "id": "b53d69d7-167f-4af9-b93c-06209d4c2218",
   "metadata": {},
   "source": [
    "# Create embeddings using locally hosted embedding models"
   ]
  },
  {
   "cell_type": "markdown",
   "id": "f6d1d1a7-69db-4923-bfdf-53c7ada7f6b8",
   "metadata": {},
   "source": [
    "First ensure that you have locally hosted LLM server running. In this example, we will be using [LMStudio](https://lmstudio.ai/). LMStudio can be used with [OpenAI Python client](https://github.com/openai/openai-python)."
   ]
  },
  {
   "cell_type": "code",
   "execution_count": 1,
   "id": "7a1cc61e-abe7-4889-87f2-4e763003c9cc",
   "metadata": {},
   "outputs": [],
   "source": [
    "from openai import OpenAI\n",
    "import numpy as np\n",
    "from numpy.linalg import norm\n",
    "\n",
    "client = OpenAI(base_url=\"http://localhost:1234/v1\", api_key=\"lm-studio\")"
   ]
  },
  {
   "cell_type": "markdown",
   "id": "482db269-10ae-4a2f-bf5d-4b6b742416ce",
   "metadata": {},
   "source": [
    "We want to experiment using different embedding models to create embeddings of our inputs. In this example, we will be showing that\n",
    "[Granite-Embedding-278m-multilingual](https://huggingface.co/ibm-granite/granite-embedding-278m-multilingual) does a pretty decent job even though it is not trained on Myanmar language.\n"
   ]
  },
  {
   "cell_type": "code",
   "execution_count": 2,
   "id": "78a9d41c-2b77-408c-a782-4aadd51d4d50",
   "metadata": {},
   "outputs": [],
   "source": [
    "DEFAULT_MODEL=\"text-embedding-granite-embedding-278m-multilingual\"\n",
    "\n",
    "def create_embedding(text: str, model=DEFAULT_MODEL) -> np.ndarray:\n",
    "    return client.embeddings.create(\n",
    "        model=model,\n",
    "        input=text).data[0].embedding"
   ]
  },
  {
   "cell_type": "code",
   "execution_count": 3,
   "id": "ca14c125-933e-42b2-8746-f2ab22ffeac2",
   "metadata": {},
   "outputs": [],
   "source": [
    "en_phrase = \"What are you doing?\"\n",
    "mm_phrase_1 = \"ဘာလုပ်နေတာလဲ\"\n",
    "mm_phrase_2 = \"ဘယ်သွားမလို့လဲ\"\n",
    "embedding_eng = create_embedding(en_phrase)\n",
    "embedding_mm_1 = create_embedding(mm_phrase_1)\n",
    "embedding_mm_2 = create_embedding(mm_phrase_2)"
   ]
  },
  {
   "cell_type": "code",
   "execution_count": 4,
   "id": "c8a2627c-055e-4797-92fb-881f1086c9e5",
   "metadata": {},
   "outputs": [],
   "source": [
    "def cosine_similarity(a: np.ndarray, b: np.ndarray) -> float:\n",
    "    return np.dot(a,b)/(norm(a)*norm(b))"
   ]
  },
  {
   "cell_type": "markdown",
   "id": "fa1de5ae-30f9-4dfd-89c1-29b832012f37",
   "metadata": {},
   "source": [
    "Semantically similar phrases will have higher cosine similrity compared to dissimilar pairs"
   ]
  },
  {
   "cell_type": "code",
   "execution_count": 5,
   "id": "8935a472-832e-4618-95cf-ae7ef1d07993",
   "metadata": {},
   "outputs": [
    {
     "name": "stdout",
     "output_type": "stream",
     "text": [
      "Similarity between What are you doing? and ဘာလုပ်နေတာလဲ:: 0.9160455173193762\n",
      "Similarity between What are you doing? and ဘယ်သွားမလို့လဲ:: 0.6699955543069079\n"
     ]
    }
   ],
   "source": [
    "print(f\"Similarity between {en_phrase} and {mm_phrase_1}:: {cosine_similarity(embedding_eng, embedding_mm_1)}\")\n",
    "print(f\"Similarity between {en_phrase} and {mm_phrase_2}:: {cosine_similarity(embedding_eng, embedding_mm_2)}\")"
   ]
  },
  {
   "cell_type": "markdown",
   "id": "b70ce71d-537f-435e-9770-3c325cd2741d",
   "metadata": {},
   "source": [
    "# Create two simple lists of Myanmar and English questions"
   ]
  },
  {
   "cell_type": "code",
   "execution_count": 6,
   "id": "8259ea56-a81e-40f6-bad3-7a177e26b9b5",
   "metadata": {},
   "outputs": [],
   "source": [
    "list_mm = [\n",
    "    \"နေကောင်းလား\",\n",
    "    \"ဘာလုပ်နေသလဲ\",\n",
    "    \"ဒီဟာကဘာလဲ\",\n",
    "    \"ဘယ်သွားမလဲ\",\n",
    "    \"ဈေးဘယ်မှာရှိလဲ\",\n",
    "    \"ဘယ်ချိန်မှာစလဲ\",\n",
    "    \"ဒီဟာဘယ်လောက်လဲ\",\n",
    "    \"ဘယ်သူလဲ\",\n",
    "    \"မင်းနာမည်ဘယ်လိုခေါ်လဲ\",\n",
    "    \"အိမ်ဘယ်မှာရှိလဲ\",\n",
    "    \"ဘယ်နေမှာနေသလဲ\",\n",
    "    \"အလုပ်လုပ်တာပျော်သလား\",\n",
    "    \"နောက်ဘယ်ချိန်တွေ့မလဲ\",\n",
    "    \"မင်းငါ့ကိုသတိရတယ်လား\",\n",
    "    \"ဒီနေ့ဘာနေ့လဲ\",\n",
    "    \"နောက်မှတွေ့ကြမလား\",\n",
    "    \"ဘယ်နှစ်ယောက်လာမလဲ\",\n",
    "    \"ဒီအစားအစာကိုကြိုက်လား\",\n",
    "    \"ဒီနေ့အပန်းဖြေခဲ့သလား\",\n",
    "    \"ဘယ်လောက်ကြာမလဲ\",\n",
    "    \"ဒါမင်းဟာလား\",\n",
    "    \"သတင်းကဘာလဲ\",\n",
    "    \"ဘယ်သူကိုဆက်သွယ်ရမလဲ\",\n",
    "    \"မင်းအနီးအနားမှာနေတယ်လား\",\n",
    "    \"ငါ့နဲ့ကူညီနိုင်မလား\",\n",
    "    \"မင်းဘာကြောင့်ထွက်သွားတာလဲ\",\n",
    "    \"ဒီနေ့အတွက်အချက်အလက်ရမလား\",\n",
    "    \"စိတ်ညစ်နေတာလား\",\n",
    "    \"ငါ့အကြံပေးနိုင်မလား\",\n",
    "    \"ဒီကားကဘယ်မှတ်တိုင်ကိုသွားမလဲ\",\n",
    "    \"ဘယ်တော့ပြန်မလဲ\",\n",
    "    \"ဘာလုပ်ချင်လဲ\",\n",
    "    \"ဒီစာအုပ်အကြောင်းပြောပြပါလား\"\n",
    "]\n",
    "\n",
    "list_en = [\n",
    "    \"How are you?\",\n",
    "    \"What are you doing?\",\n",
    "    \"What is this?\",\n",
    "    \"Where are you going?\",\n",
    "    \"Where is the market?\",\n",
    "    \"When does it start?\",\n",
    "    \"How much is this?\",\n",
    "    \"Who is it?\",\n",
    "    \"What is your name?\",\n",
    "    \"Where is your house?\",\n",
    "    \"Where do you live?\",\n",
    "    \"Do you enjoy your work?\",\n",
    "    \"When will we meet next?\",\n",
    "    \"Do you miss me?\",\n",
    "    \"What day is it today?\",\n",
    "    \"Shall we meet later?\",\n",
    "    \"How many people will come?\",\n",
    "    \"Do you like this food?\",\n",
    "    \"Did you relax today?\",\n",
    "    \"How long will it take?\",\n",
    "    \"Is this yours?\",\n",
    "    \"What is the news?\",\n",
    "    \"Who should I contact?\",\n",
    "    \"Where do you live nearby?\",\n",
    "    \"Can you help me?\",\n",
    "    \"Why did you leave?\",\n",
    "    \"Can I get today’s details?\",\n",
    "    \"Are you upset?\",\n",
    "    \"Can you give me advice?\",\n",
    "    \"Where does this bus go?\",\n",
    "    \"When will you return?\",\n",
    "    \"What do you want to do?\",\n",
    "    \"Can you tell me about this book?\"\n",
    "]\n"
   ]
  },
  {
   "cell_type": "code",
   "execution_count": 7,
   "id": "eb74d22a-5507-4569-ae02-637aa0924285",
   "metadata": {},
   "outputs": [],
   "source": [
    "mm_embeddings = [(create_embedding(original), original) for original in list_mm]"
   ]
  },
  {
   "cell_type": "code",
   "execution_count": 8,
   "id": "737faacb-277f-4373-befd-73d167425800",
   "metadata": {},
   "outputs": [],
   "source": [
    "en_embeddings = [(create_embedding(original), original) for original in list_en]"
   ]
  },
  {
   "cell_type": "code",
   "execution_count": 9,
   "id": "c0465fc2-d1d0-468b-97d3-475a86597e1a",
   "metadata": {},
   "outputs": [
    {
     "name": "stdout",
     "output_type": "stream",
     "text": [
      "For နေကောင်းလား ==> Did you relax today? [WRONG]\n",
      "For ဘာလုပ်နေသလဲ ==> What are you doing? [CORRECT]\n",
      "For ဒီဟာကဘာလဲ ==> What is this? [CORRECT]\n",
      "For ဘယ်သွားမလဲ ==> Where are you going? [CORRECT]\n",
      "For ဈေးဘယ်မှာရှိလဲ ==> Where is the market? [CORRECT]\n",
      "For ဘယ်ချိန်မှာစလဲ ==> When does it start? [CORRECT]\n",
      "For ဒီဟာဘယ်လောက်လဲ ==> How much is this? [CORRECT]\n",
      "For ဘယ်သူလဲ ==> Who is it? [CORRECT]\n",
      "For မင်းနာမည်ဘယ်လိုခေါ်လဲ ==> What is your name? [CORRECT]\n",
      "For အိမ်ဘယ်မှာရှိလဲ ==> Where is your house? [CORRECT]\n",
      "For ဘယ်နေမှာနေသလဲ ==> Where are you going? [WRONG]\n",
      "For အလုပ်လုပ်တာပျော်သလား ==> Do you enjoy your work? [CORRECT]\n",
      "For နောက်ဘယ်ချိန်တွေ့မလဲ ==> When will we meet next? [CORRECT]\n",
      "For မင်းငါ့ကိုသတိရတယ်လား ==> Do you miss me? [CORRECT]\n",
      "For ဒီနေ့ဘာနေ့လဲ ==> What day is it today? [CORRECT]\n",
      "For နောက်မှတွေ့ကြမလား ==> Shall we meet later? [CORRECT]\n",
      "For ဘယ်နှစ်ယောက်လာမလဲ ==> How many people will come? [CORRECT]\n",
      "For ဒီအစားအစာကိုကြိုက်လား ==> Do you like this food? [CORRECT]\n",
      "For ဒီနေ့အပန်းဖြေခဲ့သလား ==> Did you relax today? [CORRECT]\n",
      "For ဘယ်လောက်ကြာမလဲ ==> How long will it take? [CORRECT]\n",
      "For ဒါမင်းဟာလား ==> Is this yours? [CORRECT]\n",
      "For သတင်းကဘာလဲ ==> What is the news? [CORRECT]\n",
      "For ဘယ်သူကိုဆက်သွယ်ရမလဲ ==> Who should I contact? [CORRECT]\n",
      "For မင်းအနီးအနားမှာနေတယ်လား ==> Where do you live nearby? [CORRECT]\n",
      "For ငါ့နဲ့ကူညီနိုင်မလား ==> Can you help me? [CORRECT]\n",
      "For မင်းဘာကြောင့်ထွက်သွားတာလဲ ==> Why did you leave? [CORRECT]\n",
      "For ဒီနေ့အတွက်အချက်အလက်ရမလား ==> Can I get today’s details? [CORRECT]\n",
      "For စိတ်ညစ်နေတာလား ==> Are you upset? [CORRECT]\n",
      "For ငါ့အကြံပေးနိုင်မလား ==> Can you give me advice? [CORRECT]\n",
      "For ဒီကားကဘယ်မှတ်တိုင်ကိုသွားမလဲ ==> Where does this bus go? [CORRECT]\n",
      "For ဘယ်တော့ပြန်မလဲ ==> When will you return? [CORRECT]\n",
      "For ဘာလုပ်ချင်လဲ ==> What do you want to do? [CORRECT]\n",
      "For ဒီစာအုပ်အကြောင်းပြောပြပါလား ==> Can you tell me about this book? [CORRECT]\n"
     ]
    }
   ],
   "source": [
    "acc = []\n",
    "for m_idx, mm_embedding in enumerate(mm_embeddings):\n",
    "    max_score = 0\n",
    "    match = None\n",
    "    match_idx = None\n",
    "    for e_idx, en_embedding in enumerate(en_embeddings):\n",
    "        score = cosine_similarity(mm_embedding[0], en_embedding[0])\n",
    "        if score > max_score:\n",
    "            match = en_embedding[1]\n",
    "            max_score = score\n",
    "            match_idx = e_idx\n",
    "    correct = m_idx == match_idx\n",
    "    acc.append(1 if correct else 0)\n",
    "    print(f\"For {mm_embedding[1]} ==> {match} {('[CORRECT]' if correct else '[WRONG]')}\")"
   ]
  },
  {
   "cell_type": "code",
   "execution_count": 10,
   "id": "cb0fef8c-a802-40d5-808a-5dcb4fb9d084",
   "metadata": {},
   "outputs": [
    {
     "name": "stdout",
     "output_type": "stream",
     "text": [
      "Pre-cent correct accuracy:: 93.93939393939394%\n"
     ]
    }
   ],
   "source": [
    "print(f\"Pre-cent correct accuracy:: {np.mean(acc) * 100}%\")"
   ]
  },
  {
   "cell_type": "markdown",
   "id": "0f929006-31ab-49a0-bd52-6616be557cc9",
   "metadata": {},
   "source": [
    "# Visualizing embeddings by reducing their dimension to 2D using t-SNE"
   ]
  },
  {
   "cell_type": "code",
   "execution_count": 11,
   "id": "cf56fa6a-9765-4e70-b4ec-660114796e8f",
   "metadata": {},
   "outputs": [],
   "source": [
    "import plotly.graph_objs as go\n",
    "from sklearn.manifold import TSNE\n",
    "from scipy.spatial.distance import cdist"
   ]
  },
  {
   "cell_type": "code",
   "execution_count": 12,
   "id": "5bc65f02-3879-45c8-be7b-002333242831",
   "metadata": {},
   "outputs": [],
   "source": [
    "all_embeddings = np.array([emb for emb,_ in mm_embeddings] + [emb for emb,_ in en_embeddings])\n",
    "labels = ['MM: ' + text for text in list_mm] + ['EN: ' + text for text in list_en]\n",
    "colors = ['red'] * len(list_mm) + ['blue'] * len(list_en)"
   ]
  },
  {
   "cell_type": "code",
   "execution_count": 13,
   "id": "5e6494d2-b4a1-43af-b8f8-4dde480c390a",
   "metadata": {},
   "outputs": [],
   "source": [
    "tsne = TSNE(n_components=2, random_state=42)\n",
    "embeddings_2d = tsne.fit_transform(all_embeddings)"
   ]
  },
  {
   "cell_type": "code",
   "execution_count": 19,
   "id": "67bfaa13-68c0-4e5c-8311-be774207d668",
   "metadata": {},
   "outputs": [
    {
     "name": "stdout",
     "output_type": "stream",
     "text": [
      "Visualization saved as embedding_visualization.html\n"
     ]
    }
   ],
   "source": [
    "fig = go.Figure(data=go.Scatter(\n",
    "    x=embeddings_2d[:, 0],\n",
    "    y=embeddings_2d[:, 1],\n",
    "    mode='markers+text',\n",
    "    marker=dict(\n",
    "        color=colors,\n",
    "        size=10,\n",
    "        opacity=0.7\n",
    "    ),\n",
    "    text=labels,\n",
    "    textposition='top center',\n",
    "    textfont=dict(\n",
    "        size=14\n",
    "    )\n",
    "))\n",
    "\n",
    "fig.update_layout(\n",
    "    title='Myanmar-English Phrase Embeddings Visualization. Embeddings for both English and Myanmar are generated by IBM\\'s granite-embedding-278m-multilingual embedding model',\n",
    "    title_font_size=16,\n",
    "    xaxis_title='t-SNE Dimension 1',\n",
    "    yaxis_title='t-SNE Dimension 2',\n",
    "    hovermode='closest',\n",
    "    width=1800,  # Increased plot width\n",
    "    height=1200  # Increased plot height\n",
    ")\n",
    "\n",
    "fig.write_html(\"embedding_visualization.html\")"
   ]
  }
 ],
 "metadata": {
  "kernelspec": {
   "display_name": "Python 3 (ipykernel)",
   "language": "python",
   "name": "python3"
  },
  "language_info": {
   "codemirror_mode": {
    "name": "ipython",
    "version": 3
   },
   "file_extension": ".py",
   "mimetype": "text/x-python",
   "name": "python",
   "nbconvert_exporter": "python",
   "pygments_lexer": "ipython3",
   "version": "3.11.9"
  }
 },
 "nbformat": 4,
 "nbformat_minor": 5
}
